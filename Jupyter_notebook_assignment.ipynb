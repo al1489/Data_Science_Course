{
 "cells": [
  {
   "cell_type": "markdown",
   "id": "9aa3913f-81ee-49a1-9560-8e172e87d3a7",
   "metadata": {},
   "source": [
    "<h1> My Jupyter Notebook on IBM Watson Studio </h1>"
   ]
  },
  {
   "cell_type": "markdown",
   "id": "8937ea22-780d-498e-9565-bc71a109dcdb",
   "metadata": {},
   "source": [
    "<b> Anthony Larweck </b><br>\n",
    "Electrical Engineer"
   ]
  },
  {
   "cell_type": "markdown",
   "id": "539cec79-c8eb-4763-b9d3-49fd16847f6f",
   "metadata": {},
   "source": [
    "<i> I am interested in data science because I want to be more marketable and be able to recognize patterns in data.<i/><br>\n",
    "<i> I want to be able to use data science techniques to better understand large volumes of data. <i/>    "
   ]
  },
  {
   "cell_type": "markdown",
   "id": "eb7ccf0b-0a84-4242-b005-b1f665a46762",
   "metadata": {},
   "source": [
    "<h3>The line below explains the pythagorean theorm variables and formula.</h3>"
   ]
  },
  {
   "cell_type": "code",
   "execution_count": 10,
   "id": "773e1c49-ac4e-420b-a10b-5bcaf5230527",
   "metadata": {},
   "outputs": [
    {
     "name": "stdout",
     "output_type": "stream",
     "text": [
      "c =2.6457513110645907\n"
     ]
    }
   ],
   "source": [
    "#The pythagorean theorm is: c^2 = a^2 + b^2#\n",
    "import math\n",
    "a=1\n",
    "b=2\n",
    "c=math.sqrt(a^2+b^2)\n",
    "print(\"c =\"+str(c))"
   ]
  },
  {
   "cell_type": "markdown",
   "id": "3bcf8e8a-42b5-4c71-9296-89fa0a55e37d",
   "metadata": {},
   "source": [
    "<p>The example above highlighted the pythagorean theorm.</p>\n",
    "<p>The variables were:</p>\n",
    "<ul>\n",
    "  <li>a = side 1</li>\n",
    "  <li>b = side 2</li>\n",
    "  <li>c = hypotenuse</li>\n",
    "</ul>\n",
    "<p>\"Geometry has two great treasures; one is the Theorem of Pythagoras; the other, the division of a line into extreme and mean ratio. The first we may compare to a measure of gold; the second we may name a precious jewel.\" -Johannes Kepler</p>\n",
    "<blockquote cite=\"https://www.azquotes.com/quote/683986?ref=pythagorean-theorem\">\n",
    "<a href=\"url\">https://en.wikipedia.org/wiki/Pythagorean_theorem</a>"
   ]
  },
  {
   "cell_type": "code",
   "execution_count": null,
   "id": "02f9b5fc-9244-47b2-b2fc-4a86ca7997c0",
   "metadata": {},
   "outputs": [],
   "source": []
  }
 ],
 "metadata": {
  "kernelspec": {
   "display_name": "Python 3 (ipykernel)",
   "language": "python",
   "name": "python3"
  },
  "language_info": {
   "codemirror_mode": {
    "name": "ipython",
    "version": 3
   },
   "file_extension": ".py",
   "mimetype": "text/x-python",
   "name": "python",
   "nbconvert_exporter": "python",
   "pygments_lexer": "ipython3",
   "version": "3.7.0"
  }
 },
 "nbformat": 4,
 "nbformat_minor": 5
}
