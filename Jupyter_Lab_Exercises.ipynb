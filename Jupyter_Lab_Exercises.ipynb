{
 "cells": [
  {
   "cell_type": "markdown",
   "id": "dad49b80-a621-48cb-8439-1a283771054a",
   "metadata": {},
   "source": [
    "<p> Exercise 2</p>"
   ]
  },
  {
   "cell_type": "markdown",
   "id": "cba53ebb-8d0c-44c1-a75e-b8b974bee265",
   "metadata": {},
   "source": [
    "<h1>Jupyter Lab Notebook Exercises</h1><br>"
   ]
  },
  {
   "cell_type": "markdown",
   "id": "507b2c05-8d8b-49d7-9c29-353fe84ba7e7",
   "metadata": {},
   "source": [
    "<p> Exercise 3</p>"
   ]
  },
  {
   "cell_type": "markdown",
   "id": "e38d230f-d3a3-4a68-85bc-96bd001b3798",
   "metadata": {},
   "source": [
    "<p> Introduction </p><br>"
   ]
  },
  {
   "cell_type": "markdown",
   "id": "0190e97d-95ee-4549-8e2e-cfce5fc96912",
   "metadata": {},
   "source": [
    "<p> Exercise 4 </p>"
   ]
  },
  {
   "cell_type": "markdown",
   "id": "352d1ba3-e6f4-4a38-a7de-301e222de8e8",
   "metadata": {},
   "source": [
    "<p> List of data science languages: </p>\n",
    "<ul>\n",
    "  <li>Python</li>\n",
    "  <li>Javascript</li>\n",
    "  <li>Scala</li>\n",
    "  <li>R</li>\n",
    "  <li>SQL</li>\n",
    "</ul><br>"
   ]
  },
  {
   "cell_type": "markdown",
   "id": "f179a0be-813a-4707-80e2-f142acdae31a",
   "metadata": {},
   "source": [
    "<p> Exercise 5 </p>"
   ]
  },
  {
   "cell_type": "markdown",
   "id": "c1b42743-581d-4b29-b09c-64fd4876036e",
   "metadata": {},
   "source": [
    "<p> List of data science libraries: </p>\n",
    "<ul>\n",
    "  <li>Pandas</li>\n",
    "  <li>NumPy</li>\n",
    "  <li>SciPy</li>\n",
    "  <li>TensorFlow</li>\n",
    "  <li>Matplotlib</li>\n",
    "</ul><br>"
   ]
  },
  {
   "cell_type": "markdown",
   "id": "a1181f1a-111f-4abf-bd95-1d62a384895c",
   "metadata": {},
   "source": [
    "<p> Exercise 6 </p>"
   ]
  },
  {
   "cell_type": "markdown",
   "id": "8b13e768-5c4c-4ed4-9fb2-f5f6b016e821",
   "metadata": {},
   "source": [
    "<p> Table of data science tools: </p><br>\n",
    "<table>\n",
    "  <tr>\n",
    "    <th>Tool</th>\n",
    "    <th>Vendor</th>\n",
    "    <th>Latest Version</th>\n",
    "  </tr>\n",
    "  <tr>\n",
    "    <td>Apache Hadoop</td>\n",
    "    <td>Apache</td>\n",
    "    <td>3.1.1</td>\n",
    "  </tr>\n",
    "  <tr>\n",
    "    <td>SAS</td>\n",
    "    <td>SAS Institute</td>\n",
    "    <td>1.0</td>\n",
    "  </tr>\n",
    "    <tr>\n",
    "    <td>Tableau</td>\n",
    "    <td>Salesforce</td>\n",
    "    <td>2020.2</td>\n",
    "  </tr>\n",
    "    <tr>\n",
    "    <td>TensorFlow</td>\n",
    "    <td>GoogleBrain</td>\n",
    "    <td>2.2.0</td>\n",
    "  </tr>\n",
    "</table>"
   ]
  },
  {
   "cell_type": "markdown",
   "id": "260a99dc-1146-415f-81e9-3e40cdf65878",
   "metadata": {},
   "source": [
    "<p> Exercise 7 </p>"
   ]
  },
  {
   "cell_type": "markdown",
   "id": "d8579941-c9f4-44ac-8776-12676c2cab6f",
   "metadata": {},
   "source": [
    "<p>markdown cell introducing arithmetic expression examples</p>"
   ]
  },
  {
   "cell_type": "markdown",
   "id": "9af7b0a9-e6c3-42f3-8c14-d2b87ca9aa32",
   "metadata": {},
   "source": [
    "<p> Exercise 8 </p>"
   ]
  },
  {
   "cell_type": "markdown",
   "id": "fa908b03-c229-4d11-8432-78aacecf7a51",
   "metadata": {},
   "source": [
    "<p> Create a code cell to multiply and add numbers </p>"
   ]
  },
  {
   "cell_type": "code",
   "execution_count": 3,
   "id": "29f442c0-baaa-424b-9c38-0809519db6c8",
   "metadata": {},
   "outputs": [
    {
     "name": "stdout",
     "output_type": "stream",
     "text": [
      "Total =31\n"
     ]
    }
   ],
   "source": [
    "num1 = 3\n",
    "num2 = 7\n",
    "total = (num1*num2)+(num1+num2)\n",
    "print(\"Total =\" + str(total))"
   ]
  },
  {
   "cell_type": "markdown",
   "id": "cdb8428c-69a0-4331-9e7e-0bd6a46683c0",
   "metadata": {},
   "source": [
    "<p> Exercise 9 </p>"
   ]
  },
  {
   "cell_type": "code",
   "execution_count": 4,
   "id": "f4305e9a-8468-4625-983f-c7f239a640ca",
   "metadata": {},
   "outputs": [
    {
     "name": "stdout",
     "output_type": "stream",
     "text": [
      "Create a code cell to convert minutes to hours\n",
      "hours =10.0\n"
     ]
    }
   ],
   "source": [
    "print(\"Create a code cell to convert minutes to hours\")\n",
    "minutes=600\n",
    "hours = minutes/60\n",
    "print(\"hours =\"+ str(hours))"
   ]
  },
  {
   "cell_type": "markdown",
   "id": "81170f77-2961-479d-9968-e94b7c15e44c",
   "metadata": {},
   "source": [
    "<p> Exercise 10 </p>"
   ]
  },
  {
   "cell_type": "markdown",
   "id": "a0186cce-0123-47e5-8603-3772fe97507c",
   "metadata": {},
   "source": [
    "<p> Insert a markdown cell to list Objectives </p>\n",
    "<p> Objectives: </p>\n",
    "<ul>\n",
    "  <li>Objective 1: Finish the exercises</li>\n",
    "  <li>Objective 2: Submit the assignment</li>\n",
    "  <li>Objective 3: Raeceive a good grade</li>\n",
    "</ul>"
   ]
  },
  {
   "cell_type": "markdown",
   "id": "52706945-544c-437b-ad75-2cbc4ebfc23e",
   "metadata": {},
   "source": [
    "<p> Exercise 11 </p>"
   ]
  },
  {
   "cell_type": "markdown",
   "id": "92e57981-5015-4a22-9cab-7b13201dba95",
   "metadata": {},
   "source": [
    "<p> Create a markdown cell to indicate the Author’s name </p>\n",
    "<p> The author is Anthony Larweck </p>"
   ]
  },
  {
   "cell_type": "markdown",
   "id": "bc9dbcd2-9ada-402d-90f8-2a0a3cbb3f25",
   "metadata": {},
   "source": [
    "<p> Exercise 12 </p>"
   ]
  },
  {
   "cell_type": "markdown",
   "id": "d2cd3688-0fba-4742-a4a6-b160679dfd89",
   "metadata": {},
   "source": [
    "<p> Share your notebook through GitHub </p>\n",
    "<a href=\"https://github.com/al1489/Data_Science_Course/blob/main/Jupyter_Lab_Exercises.ipynb\">https://github.com/al1489/Data_Science_Course/blob/main/Jupyter_Lab_Exercises.ipynb</a>"
   ]
  },
  {
   "cell_type": "markdown",
   "id": "5e6c4c90-0a1b-4d12-96a0-d872240a6eeb",
   "metadata": {},
   "source": [
    "<p> Exercise 13 </p>"
   ]
  },
  {
   "cell_type": "markdown",
   "id": "2742ba53-8784-4d2b-ab89-ae60de756611",
   "metadata": {},
   "source": [
    "<p> Take a screenshot of the first page of the notebook  </p>\n",
    "<img src=\"notebook.jpeg\" alt=\"Screenshot of the first page of my notebook\">"
   ]
  },
  {
   "cell_type": "code",
   "execution_count": null,
   "id": "5d9388b7-201b-4294-b881-b65035c2e39f",
   "metadata": {},
   "outputs": [],
   "source": []
  }
 ],
 "metadata": {
  "kernelspec": {
   "display_name": "Python 3 (ipykernel)",
   "language": "python",
   "name": "python3"
  },
  "language_info": {
   "codemirror_mode": {
    "name": "ipython",
    "version": 3
   },
   "file_extension": ".py",
   "mimetype": "text/x-python",
   "name": "python",
   "nbconvert_exporter": "python",
   "pygments_lexer": "ipython3",
   "version": "3.7.0"
  }
 },
 "nbformat": 4,
 "nbformat_minor": 5
}
